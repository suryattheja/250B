{
 "cells": [
  {
   "cell_type": "code",
   "execution_count": 2,
   "metadata": {
    "collapsed": true
   },
   "outputs": [],
   "source": [
    "from matplotlib import pyplot as plt"
   ]
  },
  {
   "cell_type": "code",
   "execution_count": 3,
   "metadata": {
    "collapsed": true
   },
   "outputs": [],
   "source": [
    "def getClass(x,y):\n",
    "    cl1=x+y\n",
    "    cl2=x+1\n",
    "    cl3=y-1\n",
    "    if(cl1>cl2 and cl1>cl3):\n",
    "        return 1\n",
    "    else:\n",
    "        if(cl2>cl3):\n",
    "            return 2\n",
    "        else:\n",
    "            if(cl3>cl2):\n",
    "                return 3\n",
    "            else:\n",
    "                return 4"
   ]
  },
  {
   "cell_type": "code",
   "execution_count": 4,
   "metadata": {
    "collapsed": true
   },
   "outputs": [],
   "source": [
    "clrDict={'cl1':[],'cl2':[],'cl3':[],'cl4':[]}        \n",
    "\n",
    "for x in range(-100,150):\n",
    "    for y in range(-100,150):\n",
    "        clrDict['cl'+str(getClass(x/10,y/10))].append((x/10,y/10))"
   ]
  },
  {
   "cell_type": "code",
   "execution_count": 5,
   "metadata": {
    "collapsed": true
   },
   "outputs": [],
   "source": [
    "clrDict1={'cl1':[],'cl2':[],'cl3':[],'cl4':[]}  \n",
    "for x in range(-100,150):\n",
    "    for y in range(-100,150):\n",
    "        clrDict['cl'+str(getClass(x/10,y/10))].append((x/10,y/10))"
   ]
  },
  {
   "cell_type": "code",
   "execution_count": 8,
   "metadata": {},
   "outputs": [
    {
     "data": {
      "image/png": "[encoded data removed]",
      "text/plain": [
       "<matplotlib.figure.Figure at 0x7fe9c8e020b8>"
      ]
     },
     "metadata": {},
     "output_type": "display_data"
    }
   ],
   "source": [
    "plt.scatter([y[0] for y in clrDict['cl1']],[x[1] for x in clrDict['cl1']],c=(1,0.8,0.8),label='class 1',s=10)\n",
    "plt.scatter([y[0] for y in clrDict['cl2']],[x[1] for x in clrDict['cl2']],c=(0.8,0.9,1),label='class 2',s=10)\n",
    "plt.scatter([y[0] for y in clrDict['cl3']],[x[1] for x in clrDict['cl3']],c=(0,1,0.5),label='class 3',s=10)\n",
    "plt.scatter\n",
    "#plt.scatter([y[0] for y in clrDict['cl4']],[x[1] for x in clrDict['cl4']],c='white',label='boundary',s=5)\n",
    "plt.legend()\n",
    "plt.show()\n",
    "\n"
   ]
  },
  {
   "cell_type": "code",
   "execution_count": null,
   "metadata": {
    "collapsed": true
   },
   "outputs": [],
   "source": []
  }
 ],
 "metadata": {
  "kernelspec": {
   "display_name": "Python 3",
   "language": "python",
   "name": "python3"
  },
  "language_info": {
   "codemirror_mode": {
    "name": "ipython",
    "version": 3
   },
   "file_extension": ".py",
   "mimetype": "text/x-python",
   "name": "python",
   "nbconvert_exporter": "python",
   "pygments_lexer": "ipython3",
   "version": "3.6.3"
  }
 },
 "nbformat": 4,
 "nbformat_minor": 2
}
