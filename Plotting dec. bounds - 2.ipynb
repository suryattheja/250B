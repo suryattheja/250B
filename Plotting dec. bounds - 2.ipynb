{
 "cells": [
  {
   "cell_type": "code",
   "execution_count": 7,
   "metadata": {
    "collapsed": true
   },
   "outputs": [],
   "source": [
    "import numpy as np"
   ]
  },
  {
   "cell_type": "code",
   "execution_count": 8,
   "metadata": {
    "collapsed": true
   },
   "outputs": [],
   "source": [
    "data=[]\n",
    "label=[]\n",
    "with open('data0.txt','r') as f:\n",
    "    for row in f:\n",
    "        rowlist=row.strip().split(' ')\n",
    "        if(len(rowlist)>1):\n",
    "            data.append([int(rowlist[0]),int(rowlist[1])])\n",
    "            label.append(int(rowlist[2]))"
   ]
  },
  {
   "cell_type": "code",
   "execution_count": 9,
   "metadata": {
    "collapsed": true
   },
   "outputs": [],
   "source": [
    "w=[[0,0],[0,0],[0,0],[0,0]]\n",
    "b=[0,0,0,0]"
   ]
  },
  {
   "cell_type": "code",
   "execution_count": 10,
   "metadata": {
    "collapsed": true
   },
   "outputs": [],
   "source": [
    "def getPred(x):\n",
    "    res=[]\n",
    "    for i in [0,1,2,3]:\n",
    "        res.append(np.dot(w[i],x)+b[i])\n",
    "    return np.argmax(res)"
   ]
  },
  {
   "cell_type": "code",
   "execution_count": 11,
   "metadata": {
    "collapsed": true
   },
   "outputs": [],
   "source": [
    "from sklearn.utils import shuffle"
   ]
  },
  {
   "cell_type": "code",
   "execution_count": 12,
   "metadata": {},
   "outputs": [],
   "source": [
    "data,label=shuffle(data,label)\n",
    "convergence=False\n",
    "while(convergence!=True):\n",
    "    convergence=True\n",
    "    for row,y in zip(data,label):\n",
    "        pred=getPred(row)\n",
    "        if(pred!=y):\n",
    "            convergence=False\n",
    "            w[pred][0]-=row[0]\n",
    "            w[pred][1]-=row[1]\n",
    "            b[pred]-=1\n",
    "\n",
    "            w[y][0]+=row[0]\n",
    "            w[y][1]+=row[1]\n",
    "            b[y]+=1\n",
    "\n",
    "        "
   ]
  },
  {
   "cell_type": "code",
   "execution_count": 39,
   "metadata": {},
   "outputs": [
    {
     "data": {
      "text/plain": [
       "[[0, -3], [-36, 34], [24, -34], [12, 3]]"
      ]
     },
     "execution_count": 39,
     "metadata": {},
     "output_type": "execute_result"
    }
   ],
   "source": [
    "w"
   ]
  },
  {
   "cell_type": "code",
   "execution_count": 40,
   "metadata": {},
   "outputs": [
    {
     "data": {
      "text/plain": [
       "[61, -16, -15, -30]"
      ]
     },
     "execution_count": 40,
     "metadata": {},
     "output_type": "execute_result"
    }
   ],
   "source": [
    "b"
   ]
  },
  {
   "cell_type": "code",
   "execution_count": 32,
   "metadata": {
    "collapsed": true
   },
   "outputs": [],
   "source": [
    "clrDict={'cl0':[],'cl1':[],'cl2':[],'cl3':[]}        \n",
    "\n",
    "for x in range(0,360):\n",
    "    for y in range(0,240):\n",
    "        clrDict['cl'+str(getPred([x/20,y/20]))].append((x/20,y/20))\n",
    "        "
   ]
  },
  {
   "cell_type": "code",
   "execution_count": 33,
   "metadata": {
    "collapsed": true
   },
   "outputs": [],
   "source": [
    "from matplotlib import pyplot as plt"
   ]
  },
  {
   "cell_type": "code",
   "execution_count": 38,
   "metadata": {},
   "outputs": [
    {
     "data": {
      "image/png": "[encoded data removed]",
      "text/plain": [
       "<matplotlib.figure.Figure at 0x7fdb63d77438>"
      ]
     },
     "metadata": {},
     "output_type": "display_data"
    }
   ],
   "source": [
    "plt.scatter([y[0] for y in clrDict['cl0']],[x[1] for x in clrDict['cl0']],c=(1,0.8,0.8),s=2,label='region0')\n",
    "plt.scatter([y[0] for y in clrDict['cl1']],[x[1] for x in clrDict['cl1']],c=(0.8,0.9,1),s=2,label='region1')\n",
    "plt.scatter([y[0] for y in clrDict['cl2']],[x[1] for x in clrDict['cl2']],c=(0,1,0.5),s=2,label='region2')\n",
    "plt.scatter([y[0] for y in clrDict['cl3']],[x[1] for x in clrDict['cl3']],c='red',s=2,label='region3')\n",
    "for row,y in zip(data,label):\n",
    "    if(y==0):\n",
    "        plt.scatter(row[0],row[1],marker=\"*\",s=10,c='black')\n",
    "    if(y==1):\n",
    "        plt.scatter(row[0],row[1],marker=\"^\",s=10,c='black')\n",
    "    if(y==2):\n",
    "        plt.scatter(row[0],row[1],marker=\">\",s=10,c='black')\n",
    "    if(y==3):\n",
    "        plt.scatter(row[0],row[1],marker=\"<\",s=10,c='black')\n",
    "plt.scatter([],[],marker=\"*\",label='Class0',c='black')\n",
    "plt.scatter([],[],marker=\"^\",label='Class1',c='black')\n",
    "plt.scatter([],[],marker=\">\",label='Class2',c='black')\n",
    "plt.scatter([],[],marker=\"<\",label='Class3',c='black')\n",
    "\n",
    "leg = plt.legend(fancybox=True, loc=1)\n",
    "# set the alpha value of the legend: it will be translucent\n",
    "leg.get_frame().set_alpha(0.5)\n",
    "\n",
    "#plt.legend(loc=4,fancybox=True)\n",
    "plt.show()"
   ]
  },
  {
   "cell_type": "code",
   "execution_count": null,
   "metadata": {
    "collapsed": true
   },
   "outputs": [],
   "source": []
  }
 ],
 "metadata": {
  "kernelspec": {
   "display_name": "Python 3",
   "language": "python",
   "name": "python3"
  },
  "language_info": {
   "codemirror_mode": {
    "name": "ipython",
    "version": 3
   },
   "file_extension": ".py",
   "mimetype": "text/x-python",
   "name": "python",
   "nbconvert_exporter": "python",
   "pygments_lexer": "ipython3",
   "version": "3.6.3"
  }
 },
 "nbformat": 4,
 "nbformat_minor": 2
}
