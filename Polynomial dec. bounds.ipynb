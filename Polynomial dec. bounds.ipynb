{
 "cells": [
  {
   "cell_type": "code",
   "execution_count": 150,
   "metadata": {
    "collapsed": true
   },
   "outputs": [],
   "source": [
    "import numpy as np\n",
    "from sklearn.metrics.pairwise import polynomial_kernel as polykernel\n",
    "from sklearn.metrics.pairwise import rbf_kernel as rbf\n",
    "from matplotlib import pyplot as plt\n"
   ]
  },
  {
   "cell_type": "code",
   "execution_count": 14,
   "metadata": {
    "collapsed": true
   },
   "outputs": [],
   "source": [
    "data1=[]\n",
    "label1=[]\n",
    "data2=[]\n",
    "label2=[]\n",
    "with open('data1.txt','r') as f:\n",
    "    for row in f:\n",
    "        rowlist=row.strip().split(' ')\n",
    "        if(len(rowlist)>1):\n",
    "            data1.append([int(rowlist[0]),int(rowlist[1])])\n",
    "            label1.append(int(rowlist[2]))\n",
    "with open('data2.txt','r') as f:\n",
    "    for row in f:\n",
    "        rowlist=row.strip().split(' ')\n",
    "        if(len(rowlist)>1):\n",
    "            data2.append([int(rowlist[0]),int(rowlist[1])])\n",
    "            label2.append(int(rowlist[2]))"
   ]
  },
  {
   "cell_type": "code",
   "execution_count": 4,
   "metadata": {
    "collapsed": true
   },
   "outputs": [],
   "source": [
    "data=data1+data2\n",
    "label=label1+label2"
   ]
  },
  {
   "cell_type": "code",
   "execution_count": 5,
   "metadata": {
    "collapsed": true
   },
   "outputs": [],
   "source": [
    "from sklearn.utils import shuffle"
   ]
  },
  {
   "cell_type": "code",
   "execution_count": 6,
   "metadata": {
    "collapsed": true
   },
   "outputs": [],
   "source": [
    "def kernel(x):\n",
    "    global w\n",
    "    return np.dot(w,x)\n",
    "\n",
    "def getpred(w,b,x):\n",
    "    phi=[x[0],x[1],x[0]**2,x[1]**2,x[0]*x[1]]\n",
    "    if(b+np.dot(w,phi)>0):\n",
    "        return 1\n",
    "    else:\n",
    "        return 0"
   ]
  },
  {
   "cell_type": "code",
   "execution_count": 7,
   "metadata": {
    "collapsed": true
   },
   "outputs": [],
   "source": [
    "def perceptron(data,label):\n",
    "    global b,w\n",
    "    convergence=False\n",
    "    itn=0\n",
    "    while(convergence!=True):\n",
    "        itn+=1\n",
    "        print(itn)\n",
    "        data,label=shuffle(data,label)\n",
    "        convergence=True\n",
    "        #print(w)\n",
    "        mispredcount=0\n",
    "        for row,y in zip(data,label):\n",
    "            #print(row)\n",
    "            #print(y)\n",
    "            x=[row[0],row[1],row[0]**2,row[1]**2,row[0]*row[1]]\n",
    "            pred=b+kernel(x)\n",
    "            if(y*pred<=0):\n",
    "                mispredcount+=1\n",
    "                convergence=False\n",
    "                w_update=[y*i for i in x]\n",
    "                #print('w_update')\n",
    "                w=[i+j for i,j in zip(w,w_update)]\n",
    "                b=b+y\n",
    "        print('mispredcount',mispredcount)\n",
    "    return w,b"
   ]
  },
  {
   "cell_type": "code",
   "execution_count": null,
   "metadata": {
    "collapsed": true
   },
   "outputs": [],
   "source": [
    "w=[0,0,0,0,0]\n",
    "b=0\n",
    "perceptron(data1,label1)"
   ]
  },
  {
   "cell_type": "code",
   "execution_count": 8,
   "metadata": {
    "collapsed": true
   },
   "outputs": [],
   "source": [
    "w_data1=w\n",
    "b_data1=b"
   ]
  },
  {
   "cell_type": "code",
   "execution_count": null,
   "metadata": {
    "collapsed": true
   },
   "outputs": [],
   "source": [
    "w=[0,0,0,0,0]\n",
    "b=0\n",
    "perceptron(data2,label2)"
   ]
  },
  {
   "cell_type": "code",
   "execution_count": 25,
   "metadata": {
    "collapsed": true
   },
   "outputs": [],
   "source": [
    "w_data2,b_data2=w,b"
   ]
  },
  {
   "cell_type": "code",
   "execution_count": null,
   "metadata": {
    "collapsed": true
   },
   "outputs": [],
   "source": [
    "b_data2"
   ]
  },
  {
   "cell_type": "code",
   "execution_count": 26,
   "metadata": {},
   "outputs": [
    {
     "data": {
      "text/plain": [
       "[-3884, 1060, 496, -34, -151]"
      ]
     },
     "execution_count": 26,
     "metadata": {},
     "output_type": "execute_result"
    }
   ],
   "source": [
    "w_data2"
   ]
  },
  {
   "cell_type": "code",
   "execution_count": 27,
   "metadata": {},
   "outputs": [
    {
     "data": {
      "text/plain": [
       "90"
      ]
     },
     "execution_count": 27,
     "metadata": {},
     "output_type": "execute_result"
    }
   ],
   "source": [
    "b_data1"
   ]
  },
  {
   "cell_type": "code",
   "execution_count": 28,
   "metadata": {},
   "outputs": [
    {
     "data": {
      "text/plain": [
       "[203, 210, 145, 166, -428]"
      ]
     },
     "execution_count": 28,
     "metadata": {},
     "output_type": "execute_result"
    }
   ],
   "source": [
    "w_data1"
   ]
  },
  {
   "cell_type": "code",
   "execution_count": 12,
   "metadata": {
    "collapsed": true
   },
   "outputs": [],
   "source": [
    "clrDict1={'cl0':[],'cl1':[]}  \n",
    "clrDict2={'cl0':[],'cl1':[]}  \n",
    "\n",
    "\n",
    "for x in range(0,240):\n",
    "    for y in range(0,240):\n",
    "        clrDict1['cl'+str(getpred(w_data1,b_data1,[x/20,y/20]))].append((x/20,y/20))\n",
    "        clrDict2['cl'+str(getpred(w_data2,b_data2,[x/20,y/20]))].append((x/20,y/20))"
   ]
  },
  {
   "cell_type": "code",
   "execution_count": 13,
   "metadata": {
    "collapsed": true
   },
   "outputs": [],
   "source": [
    "from matplotlib import pyplot as plt"
   ]
  },
  {
   "cell_type": "code",
   "execution_count": 24,
   "metadata": {},
   "outputs": [
    {
     "data": {
      "image/png": "[encoded data removed]",
      "text/plain": [
       "<matplotlib.figure.Figure at 0x7f4841f05240>"
      ]
     },
     "metadata": {},
     "output_type": "display_data"
    }
   ],
   "source": [
    "plt.scatter([y[1] for y in clrDict1['cl0']],[x[0] for x in clrDict1['cl0']],c='grey',s=2,label='region -1')\n",
    "plt.scatter([y[1] for y in clrDict1['cl1']],[x[0] for x in clrDict1['cl1']],c='blue',s=2,label='region +1')\n",
    "for row,y in zip(data1,label1):\n",
    "    if(y==-1):\n",
    "        plt.scatter(row[1],row[0],marker=\">\",s=5,c='blue')\n",
    "    if(y==1):\n",
    "        plt.scatter(row[1],row[0],marker=\"<\",s=5,c='black')\n",
    "plt.scatter([],[],marker=\">\",c='blue',label='class -1')\n",
    "plt.scatter([],[],marker=\"<\",c='black',label='class 1')\n",
    "plt.legend()\n",
    "plt.title('DataSet-1: Quadratic Boundary')\n",
    "plt.show()"
   ]
  },
  {
   "cell_type": "code",
   "execution_count": 22,
   "metadata": {},
   "outputs": [
    {
     "data": {
      "image/png": "[encoded data removed]",
      "text/plain": [
       "<matplotlib.figure.Figure at 0x7f4841bc9828>"
      ]
     },
     "metadata": {},
     "output_type": "display_data"
    }
   ],
   "source": [
    "plt.scatter([y[1] for y in clrDict2['cl0']],[x[0] for x in clrDict2['cl0']],c='grey',s=2,label='region -1')\n",
    "plt.scatter([y[1] for y in clrDict2['cl1']],[x[0] for x in clrDict2['cl1']],c='blue',s=2,label='regioin 1')\n",
    "for row,y in zip(data2,label2):\n",
    "    if(y==-1):\n",
    "        plt.scatter(row[1],row[0],marker=\">\",s=5,c='blue')\n",
    "    if(y==1):\n",
    "        plt.scatter(row[1],row[0],marker=\"<\",s=5,c='black')\n",
    "plt.scatter([],[],marker=\">\",c='blue',label='class -1')\n",
    "plt.scatter([],[],marker=\"<\",c='black',label='class 1')\n",
    "plt.legend()\n",
    "plt.title('DataSet-2: Quadratic Boundary')\n",
    "plt.show()"
   ]
  },
  {
   "cell_type": "code",
   "execution_count": 183,
   "metadata": {
    "collapsed": true
   },
   "outputs": [],
   "source": [
    "####data1 and data2 are available.####\n",
    "data1,label1=shuffle(data2,label2)"
   ]
  },
  {
   "cell_type": "code",
   "execution_count": 199,
   "metadata": {
    "collapsed": true
   },
   "outputs": [],
   "source": [
    "def kernel(x_i,x_j):\n",
    "    s=0.1\n",
    "    #global alpha\n",
    "    #kval=(1+np.dot(x_i,x_j))**2\n",
    "    expVal=sum([(i-j)**2 for i,j in zip(x_i,x_j)])\n",
    "    kval=np.exp(-1*expVal/(s*s))\n",
    "    return kval\n",
    "def predict_data1(x):\n",
    "    global alpha,data1,b\n",
    "    global label1\n",
    "    predSum=sum([alpha[i]*label1[i]*kernel(data1[i],x) for i in range(len(data1))])\n",
    "    if(predSum+b>0):\n",
    "        return 1\n",
    "    else:\n",
    "        return -1\n",
    "    "
   ]
  },
  {
   "cell_type": "code",
   "execution_count": 200,
   "metadata": {
    "scrolled": true
   },
   "outputs": [],
   "source": [
    "alpha=[0]*len(data1)\n",
    "b=0\n",
    "allCorrect=False\n",
    "counter=0\n",
    "while(allCorrect!=True and counter<5000):\n",
    "    counter+=1\n",
    "    if(counter%500==0):\n",
    "        print(counter)\n",
    "    allCorrect=True\n",
    "    for r in range(len(data1)):\n",
    "        predSum=sum([alpha[i]*label1[i]*kernel(data1[r],data1[i]) for i in range(len(data1))])\n",
    "        #print(predSum)\n",
    "        if(label1[r]*(predSum+b)<=0):\n",
    "            #print('Inside if')\n",
    "            allCorrect=False\n",
    "            alpha[r]+=1\n",
    "            b+=label1[r]\n",
    "        \n",
    "    "
   ]
  },
  {
   "cell_type": "code",
   "execution_count": 201,
   "metadata": {},
   "outputs": [],
   "source": [
    "clrDict1_D={'cl-1':[],'cl1':[]}  \n",
    "#clrDict2={'cl0':[],'cl1':[]}  \n",
    "\n",
    "for x in range(0,240):\n",
    "    for y in range(0,240):\n",
    "        clrDict1_D['cl'+str(predict_data1([x/20,y/20]))].append((x/20,y/20))\n",
    "        #clrDict2['cl'+str(getpred(w_data2,b_data2,[x/20,y/20]))].append((x/20,y/20))"
   ]
  },
  {
   "cell_type": "code",
   "execution_count": 203,
   "metadata": {},
   "outputs": [
    {
     "data": {
      "image/png": "[encoded data removed]",
      "text/plain": [
       "<matplotlib.figure.Figure at 0x7fe3357928d0>"
      ]
     },
     "metadata": {},
     "output_type": "display_data"
    }
   ],
   "source": [
    "plt.scatter([y[1] for y in clrDict1_D['cl-1']],[x[0] for x in clrDict1_D['cl-1']],c='grey',s=2,label='region -1')\n",
    "plt.scatter([y[1] for y in clrDict1_D['cl1']],[x[0] for x in clrDict1_D['cl1']],c='blue',s=2,label='region +1')\n",
    "for row,y in zip(data1,label1):\n",
    "    if(y==-1):\n",
    "        plt.scatter(row[1],row[0],marker=\">\",s=5,c='blue')\n",
    "    if(y==1):\n",
    "        plt.scatter(row[1],row[0],marker=\"<\",s=5,c='black')\n",
    "plt.scatter([],[],marker=\">\",c='blue',label='class -1')\n",
    "plt.scatter([],[],marker=\"<\",c='black',label='class 1')\n",
    "plt.legend()\n",
    "plt.title('DataSet-2: RBF Kernel, s=0.1')\n",
    "plt.show()"
   ]
  },
  {
   "cell_type": "code",
   "execution_count": null,
   "metadata": {
    "collapsed": true
   },
   "outputs": [],
   "source": []
  }
 ],
 "metadata": {
  "kernelspec": {
   "display_name": "Python 3",
   "language": "python",
   "name": "python3"
  }
 },
 "nbformat": 4,
 "nbformat_minor": 2
}
