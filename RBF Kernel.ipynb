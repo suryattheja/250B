{
 "cells": [
  {
   "cell_type": "code",
   "execution_count": 10,
   "metadata": {
    "collapsed": true
   },
   "outputs": [],
   "source": [
    "import mnist\n",
    "from sklearn.svm import LinearSVC\n",
    "from sklearn.metrics.pairwise import rbf_kernel as rbf\n"
   ]
  },
  {
   "cell_type": "code",
   "execution_count": 11,
   "metadata": {
    "collapsed": true
   },
   "outputs": [],
   "source": [
    "trainImagesMN=mnist.train_images()\n",
    "trainImages=[]\n",
    "for i in range(len(trainImagesMN)):\n",
    "    trainImages.append(trainImagesMN[i].reshape(28*28))\n",
    "testImagesMN=mnist.test_images()\n",
    "testImages=[]\n",
    "for i in range(len(testImagesMN)):\n",
    "    testImages.append(testImagesMN[i].reshape(28*28))\n",
    "\n",
    "\n",
    "trainLabels=mnist.train_labels()\n",
    "testLabels=mnist.test_labels()\n",
    "del trainImagesMN,testImagesMN"
   ]
  },
  {
   "cell_type": "code",
   "execution_count": 12,
   "metadata": {
    "collapsed": true
   },
   "outputs": [],
   "source": [
    "def getErrorRate(trainX,trainY,testX,testY,C):\n",
    "    clf=LinearSVC(loss='hinge',C=C,verbose=0)\n",
    "    clf.fit(trainX,trainY)\n",
    "    preds=clf.predict(trainX)\n",
    "    errors=sum([1 for i,j in zip(trainY,preds) if i!=j])\n",
    "    errorRateTrain=errors/len(trainY)*100\n",
    "    predsTest=clf.predict(testX)\n",
    "    errorsTest=sum([1 for i,j in zip(testY,predsTest) if i!=j])\n",
    "    errorRateTest=errorsTest/len(testY)*100\n",
    "    return errorRateTrain,errorRateTest"
   ]
  },
  {
   "cell_type": "code",
   "execution_count": 12,
   "metadata": {},
   "outputs": [
    {
     "name": "stdout",
     "output_type": "stream",
     "text": [
      "[LibLinear]"
     ]
    },
    {
     "name": "stderr",
     "output_type": "stream",
     "text": [
      "/home/suryattheja/anaconda3/lib/python3.6/site-packages/sklearn/svm/base.py:898: ConvergenceWarning: Liblinear failed to converge, increase the number of iterations.\n",
      "  \"the number of iterations.\", ConvergenceWarning)\n"
     ]
    }
   ],
   "source": [
    "trErr,teErr=getErrorRate(trainImages,trainLabels,testImages,testLabels,0.01)"
   ]
  },
  {
   "cell_type": "code",
   "execution_count": 14,
   "metadata": {},
   "outputs": [
    {
     "data": {
      "text/plain": [
       "11.68"
      ]
     },
     "execution_count": 14,
     "metadata": {},
     "output_type": "execute_result"
    }
   ],
   "source": [
    "teErr"
   ]
  },
  {
   "cell_type": "code",
   "execution_count": 15,
   "metadata": {},
   "outputs": [
    {
     "name": "stdout",
     "output_type": "stream",
     "text": [
      "[LibLinear]"
     ]
    },
    {
     "name": "stderr",
     "output_type": "stream",
     "text": [
      "/home/suryattheja/anaconda3/lib/python3.6/site-packages/sklearn/svm/base.py:898: ConvergenceWarning: Liblinear failed to converge, increase the number of iterations.\n",
      "  \"the number of iterations.\", ConvergenceWarning)\n"
     ]
    },
    {
     "name": "stdout",
     "output_type": "stream",
     "text": [
      "For C=0.01, TrainError=12.590000000000002, TestError=13.320000000000002\n",
      "[LibLinear]For C=0.1, TrainError=13.198333333333334, TestError=14.08\n",
      "[LibLinear]For C=1.0, TrainError=15.83, TestError=16.74\n",
      "[LibLinear]For C=10.0, TrainError=13.035, TestError=13.07\n",
      "[LibLinear]For C=100.0, TrainError=13.616666666666665, TestError=13.98\n"
     ]
    }
   ],
   "source": [
    "for C in [0.01, 0.1, 1.0, 10.0, 100.0]:\n",
    "    trainError,testError=getErrorRate(trainImages,trainLabels,testImages,testLabels,C)\n",
    "    print('For C={0}, TrainError={1}, TestError={2}'.format(C,trainError,testError))"
   ]
  },
  {
   "cell_type": "code",
   "execution_count": 4,
   "metadata": {
    "collapsed": true
   },
   "outputs": [],
   "source": [
    "from sklearn.svm import SVC"
   ]
  },
  {
   "cell_type": "code",
   "execution_count": 5,
   "metadata": {},
   "outputs": [
    {
     "name": "stdout",
     "output_type": "stream",
     "text": [
      "Fit with a quadratic curve, trainError=0, testError=194\n"
     ]
    }
   ],
   "source": [
    "clfPoly=SVC(kernel='poly',degree=2,C=1.0)\n",
    "clfPoly.fit(trainImages,trainLabels)\n",
    "predsTrain=clfPoly.predict(trainImages)\n",
    "predsTest=clfPoly.predict(testImages)\n",
    "errorsTrain=sum([1 for i,j in zip(predsTrain,trainLabels) if i!=j])\n",
    "errorsTest=sum([1 for i,j in zip(predsTest,testLabels) if i!=j])\n",
    "print('Fit with a quadratic curve, trainError={0}, testError={1}'.format(errorsTrain,errorsTest))"
   ]
  }
 ],
 "metadata": {
  "kernelspec": {
   "display_name": "Python 3",
   "language": "python",
   "name": "python3"
  },
  "language_info": {
   "codemirror_mode": {
    "name": "ipython",
    "version": 3
   },
   "file_extension": ".py",
   "mimetype": "text/x-python",
   "name": "python",
   "nbconvert_exporter": "python",
   "pygments_lexer": "ipython3",
   "version": "3.6.3"
  }
 },
 "nbformat": 4,
 "nbformat_minor": 2
}
